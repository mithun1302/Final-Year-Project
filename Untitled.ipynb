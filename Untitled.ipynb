{
 "cells": [
  {
   "cell_type": "code",
   "execution_count": null,
   "id": "2da3ece0",
   "metadata": {},
   "outputs": [
    {
     "name": "stderr",
     "output_type": "stream",
     "text": [
      "C:\\Users\\retec\\AppData\\Roaming\\Python\\Python37\\site-packages\\tensorboard\\compat\\tensorflow_stub\\dtypes.py:541: FutureWarning: Passing (type, 1) or '1type' as a synonym of type is deprecated; in a future version of numpy, it will be understood as (type, (1,)) / '(1,)type'.\n",
      "  _np_qint8 = np.dtype([(\"qint8\", np.int8, 1)])\n",
      "C:\\Users\\retec\\AppData\\Roaming\\Python\\Python37\\site-packages\\tensorboard\\compat\\tensorflow_stub\\dtypes.py:542: FutureWarning: Passing (type, 1) or '1type' as a synonym of type is deprecated; in a future version of numpy, it will be understood as (type, (1,)) / '(1,)type'.\n",
      "  _np_quint8 = np.dtype([(\"quint8\", np.uint8, 1)])\n",
      "C:\\Users\\retec\\AppData\\Roaming\\Python\\Python37\\site-packages\\tensorboard\\compat\\tensorflow_stub\\dtypes.py:543: FutureWarning: Passing (type, 1) or '1type' as a synonym of type is deprecated; in a future version of numpy, it will be understood as (type, (1,)) / '(1,)type'.\n",
      "  _np_qint16 = np.dtype([(\"qint16\", np.int16, 1)])\n",
      "C:\\Users\\retec\\AppData\\Roaming\\Python\\Python37\\site-packages\\tensorboard\\compat\\tensorflow_stub\\dtypes.py:544: FutureWarning: Passing (type, 1) or '1type' as a synonym of type is deprecated; in a future version of numpy, it will be understood as (type, (1,)) / '(1,)type'.\n",
      "  _np_quint16 = np.dtype([(\"quint16\", np.uint16, 1)])\n",
      "C:\\Users\\retec\\AppData\\Roaming\\Python\\Python37\\site-packages\\tensorboard\\compat\\tensorflow_stub\\dtypes.py:545: FutureWarning: Passing (type, 1) or '1type' as a synonym of type is deprecated; in a future version of numpy, it will be understood as (type, (1,)) / '(1,)type'.\n",
      "  _np_qint32 = np.dtype([(\"qint32\", np.int32, 1)])\n",
      "C:\\Users\\retec\\AppData\\Roaming\\Python\\Python37\\site-packages\\tensorboard\\compat\\tensorflow_stub\\dtypes.py:550: FutureWarning: Passing (type, 1) or '1type' as a synonym of type is deprecated; in a future version of numpy, it will be understood as (type, (1,)) / '(1,)type'.\n",
      "  np_resource = np.dtype([(\"resource\", np.ubyte, 1)])\n"
     ]
    },
    {
     "name": "stdout",
     "output_type": "stream",
     "text": [
      "4607   4607 1280   1280\n",
      "Train on 4607 samples, validate on 512 samples\n",
      "Epoch 1/3\n",
      "2720/4607 [================>.............] - ETA: 3:08 - loss: 1.1211 - accuracy: 0.4710"
     ]
    }
   ],
   "source": [
    "import numpy as np\n",
    "from tensorflow import keras\n",
    "\n",
    "import matplotlib.pyplot as plt\n",
    "import os\n",
    "import cv2\n",
    "import random\n",
    "import sklearn.model_selection as model_selection\n",
    "import datetime\n",
    "from model import createModel\n",
    "from contextlib import redirect_stdout\n",
    "categories = [\"NonDemented\", \"MildDemented\", \"ModerateDemented\", \"VeryMildDemented\"]\n",
    "\n",
    "SIZE = 120\n",
    "\n",
    "\n",
    "\n",
    "def getData():\n",
    "    rawdata = []\n",
    "    data = []\n",
    "    dir = \"./data/\"\n",
    "    for category in categories:\n",
    "        path = os.path.join(dir, category)\n",
    "        class_num = categories.index(category)\n",
    "        for img in os.listdir(path):\n",
    "            try:\n",
    "                rawdata = cv2.imread(os.path.join(path, img), cv2.IMREAD_GRAYSCALE)\n",
    "                new_data = cv2.resize(rawdata, (SIZE, SIZE))\n",
    "\n",
    "                data.append([new_data, class_num])\n",
    "            except Exception as e:\n",
    "                pass\n",
    "\n",
    "    random.shuffle(data)\n",
    "\n",
    "    img_data = []\n",
    "    img_labels = []\n",
    "    for features, label in data:\n",
    "        img_data.append(features)\n",
    "        img_labels.append(label)\n",
    "    img_data = np.array(img_data).reshape(-1, SIZE, SIZE, 1)\n",
    "    img_data = img_data / 255.0\n",
    "    img_labels = np.array(img_labels)\n",
    "\n",
    "    return img_data, img_labels\n",
    "\n",
    "\n",
    "\n",
    "data, labels = getData()\n",
    "train_data, test_data, train_labels, test_labels = model_selection.train_test_split(data, labels, test_size=0.20)\n",
    "\n",
    "train_data, val_data, train_labels, val_labels = model_selection.train_test_split(train_data, train_labels,test_size=0.10)\n",
    "print(len(train_data), \" \", len(train_labels), len(test_data), \" \", len(test_labels))\n",
    "\n",
    "model = createModel(train_data)\n",
    "\n",
    "checkpoint = keras.callbacks.ModelCheckpoint(filepath='./model/model1.h5', save_best_only=True, monitor='val_loss', mode='min')\n",
    "\n",
    "opt = keras.optimizers.Adam(learning_rate=0.001)\n",
    "model.compile(optimizer=opt, loss=\"sparse_categorical_crossentropy\", metrics=[\"accuracy\"], )\n",
    "\n",
    "\n",
    "history = model.fit(train_data, train_labels, epochs=3, validation_data=(val_data, val_labels)\n",
    "                    )\n",
    "\n",
    "model.save('./model/model1.h5')\n",
    "test_loss, test_acc = model.evaluate(test_data, test_labels)\n",
    "print(\"Model Accuracy: \", test_acc, \"Model Loss: \", test_loss)\n",
    "\n"
   ]
  },
  {
   "cell_type": "code",
   "execution_count": null,
   "id": "52ac5899",
   "metadata": {},
   "outputs": [],
   "source": [
    "plt.plot(history.history['acc'])\n",
    "plt.plot(history.history['val_acc'])\n",
    "plt.title('Model acc')\n",
    "plt.ylabel('acc')\n",
    "plt.xlabel('epoch')\n",
    "plt.legend(['train', 'test'], loc='upper left')\n",
    "plt.show()\n",
    "# summarize history for loss\n",
    "plt.plot(history.history['loss'])\n",
    "plt.plot(history.history['val_loss'])\n",
    "plt.title('Model loss')\n",
    "plt.ylabel('loss')\n",
    "plt.xlabel('epoch')\n",
    "plt.legend(['train', 'test'], loc='upper left')\n",
    "plt.show()\n"
   ]
  }
 ],
 "metadata": {
  "kernelspec": {
   "display_name": "Python 3 (ipykernel)",
   "language": "python",
   "name": "python3"
  },
  "language_info": {
   "codemirror_mode": {
    "name": "ipython",
    "version": 3
   },
   "file_extension": ".py",
   "mimetype": "text/x-python",
   "name": "python",
   "nbconvert_exporter": "python",
   "pygments_lexer": "ipython3",
   "version": "3.7.1"
  }
 },
 "nbformat": 4,
 "nbformat_minor": 5
}
